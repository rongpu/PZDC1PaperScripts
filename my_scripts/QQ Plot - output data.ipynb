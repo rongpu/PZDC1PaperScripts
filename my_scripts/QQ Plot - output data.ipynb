{
 "cells": [
  {
   "cell_type": "code",
   "execution_count": 1,
   "metadata": {
    "collapsed": true
   },
   "outputs": [],
   "source": [
    "%matplotlib inline\n",
    "from __future__ import division, print_function\n",
    "import numpy as np\n",
    "from astropy.table import Table\n",
    "import matplotlib.pyplot as plt\n",
    "import sys, os\n",
    "sys.path.append('/Users/roz18/git/Python/user_modules')\n",
    "from readEazyBinary import readpz\n",
    "import scipy.interpolate\n",
    "import scipy.integrate\n",
    "import scipy"
   ]
  },
  {
   "cell_type": "code",
   "execution_count": 2,
   "metadata": {
    "scrolled": false
   },
   "outputs": [
    {
     "name": "stdout",
     "output_type": "stream",
     "text": [
      "111171\n",
      "44410\n",
      "43486\n",
      "43486\n"
     ]
    }
   ],
   "source": [
    "path = '/Users/roz18/Dropbox/Work/mini-projects/Buzzard-EAZY/inputs_Buzzard_training/OUTPUT'\n",
    "\n",
    "cat = Table.read('/Users/roz18/Documents/Data/mini-projects/buzzard_photo-z/Final_Buzzard_training_file.fits')\n",
    "print(len(cat))\n",
    "\n",
    "# Gold sample cut\n",
    "mask = cat['LSSTi']<25.3\n",
    "print(np.sum(mask))\n",
    "\n",
    "# Remove objects with invalide flux measurements\n",
    "mask = mask & (cat['LSSTu']!=99.) & (cat['LSSTg']!=99.) & (cat['LSSTr']!=99.) & \\\n",
    "       (cat['LSSTi']!=99.) & (cat['LSSTz']!=99.) & (cat['LSSTy']!=99.)\n",
    "print(np.sum(mask))\n",
    "\n",
    "# redshift range\n",
    "zmin = 0.\n",
    "zmax = 2.0\n",
    "mask = mask & (cat['redshift']>zmin) & (cat['redshift']<zmax)\n",
    "print(np.sum(mask))\n",
    "cat = cat[mask]\n",
    "zspec = cat['redshift']"
   ]
  },
  {
   "cell_type": "code",
   "execution_count": 4,
   "metadata": {
    "collapsed": true
   },
   "outputs": [],
   "source": [
    "# Load p(z) data\n",
    "pz_dict = readpz(MAIN_OUTPUT_FILE='photz', OUTPUT_DIRECTORY=path, APPLY_PRIOR=False)\n",
    "# Redshift grid\n",
    "zgrid = pz_dict['zgrid']\n",
    "# p(z)\n",
    "pz = pz_dict['pz'][mask]\n",
    "# prior = pz_dict['prior'][mask]\n",
    "# chi squared\n",
    "chi2 = pz_dict['chi2'][mask]"
   ]
  },
  {
   "cell_type": "code",
   "execution_count": 5,
   "metadata": {},
   "outputs": [],
   "source": [
    "# Downsampling\n",
    "size = 100\n",
    "np.random.seed(1842)\n",
    "idx = np.random.choice(len(pz), size=size, replace=False)\n",
    "pz = pz[idx]\n",
    "zspec = zspec[idx]"
   ]
  },
  {
   "cell_type": "code",
   "execution_count": 6,
   "metadata": {
    "collapsed": true
   },
   "outputs": [],
   "source": [
    "np.savetxt('/Users/roz18/Documents/git/PZDC1paper/mystuff/pz.txt', pz)\n",
    "np.savetxt('/Users/roz18/Documents/git/PZDC1paper/mystuff/zgrid.txt', zgrid)\n",
    "np.savetxt('/Users/roz18/Documents/git/PZDC1paper/mystuff/zspec.txt', zspec)"
   ]
  },
  {
   "cell_type": "markdown",
   "metadata": {
    "collapsed": true
   },
   "source": [
    "__Interpolate p(z):__"
   ]
  },
  {
   "cell_type": "code",
   "execution_count": 7,
   "metadata": {},
   "outputs": [
    {
     "name": "stdout",
     "output_type": "stream",
     "text": [
      "\r",
      "0\r",
      "1\r",
      "2\r",
      "3\r",
      "4\r",
      "5\r",
      "6\r",
      "7\r",
      "8\r",
      "9\r",
      "10\r",
      "11\r",
      "12\r",
      "13\r",
      "14\r",
      "15\r",
      "16\r",
      "17\r",
      "18\r",
      "19\r",
      "20\r",
      "21\r",
      "22\r",
      "23\r",
      "24\r",
      "25\r",
      "26\r",
      "27\r",
      "28\r",
      "29\r",
      "30\r",
      "31\r",
      "32\r",
      "33\r",
      "34\r",
      "35\r",
      "36\r",
      "37\r",
      "38\r",
      "39\r",
      "40\r",
      "41\r",
      "42\r",
      "43\r",
      "44\r",
      "45\r",
      "46\r",
      "47\r",
      "48\r",
      "49\r",
      "50\r",
      "51\r",
      "52\r",
      "53\r",
      "54\r",
      "55\r",
      "56\r",
      "57\r",
      "58\r",
      "59\r",
      "60\r",
      "61\r",
      "62\r",
      "63\r",
      "64\r",
      "65\r",
      "66\r",
      "67\r",
      "68\r",
      "69\r",
      "70\r",
      "71\r",
      "72\r",
      "73\r",
      "74\r",
      "75\r",
      "76\r",
      "77\r",
      "78\r",
      "79\r",
      "80\r",
      "81\r",
      "82\r",
      "83\r",
      "84\r",
      "85\r",
      "86\r",
      "87\r",
      "88\r",
      "89\r",
      "90\r",
      "91\r",
      "92\r",
      "93\r",
      "94\r",
      "95\r",
      "96\r",
      "97\r",
      "98\r",
      "99"
     ]
    }
   ],
   "source": [
    "# Insert points between the grid points\n",
    "# set the number of iterations\n",
    "n_iterations = 3\n",
    "zgrid_fine = zgrid.copy()\n",
    "for index in range(n_iterations):\n",
    "    zgrid1 = np.zeros(len(zgrid_fine)*2-1)\n",
    "    zgrid1[::2] = zgrid_fine\n",
    "    zgrid1[1::2] = (zgrid_fine[:-1]+zgrid_fine[1:])/2\n",
    "    zgrid_fine = zgrid1.copy()\n",
    "    \n",
    "pz_fine = np.zeros((len(pz), len(zgrid_fine)))\n",
    "for index in range(len(pz)):\n",
    "    pz_interp = scipy.interpolate.interp1d(zgrid, pz[index], kind='linear')\n",
    "    pz_fine[index] = pz_interp(zgrid_fine)\n",
    "    print('\\r{}'.format(index), end='')"
   ]
  },
  {
   "cell_type": "code",
   "execution_count": 8,
   "metadata": {
    "collapsed": true
   },
   "outputs": [],
   "source": [
    "np.savetxt('/Users/roz18/Documents/git/PZDC1paper/mystuff/zgrid_fine.txt', zgrid_fine)\n",
    "np.savetxt('/Users/roz18/Documents/git/PZDC1paper/mystuff/pz_fine.txt', pz_fine)"
   ]
  },
  {
   "cell_type": "code",
   "execution_count": null,
   "metadata": {
    "collapsed": true
   },
   "outputs": [],
   "source": []
  }
 ],
 "metadata": {
  "anaconda-cloud": {},
  "kernelspec": {
   "display_name": "Python [Root]",
   "language": "python",
   "name": "Python [Root]"
  },
  "language_info": {
   "codemirror_mode": {
    "name": "ipython",
    "version": 2
   },
   "file_extension": ".py",
   "mimetype": "text/x-python",
   "name": "python",
   "nbconvert_exporter": "python",
   "pygments_lexer": "ipython2",
   "version": "2.7.11"
  }
 },
 "nbformat": 4,
 "nbformat_minor": 1
}
