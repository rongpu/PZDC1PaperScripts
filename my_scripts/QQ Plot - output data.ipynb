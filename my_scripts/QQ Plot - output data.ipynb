{
 "cells": [
  {
   "cell_type": "code",
   "execution_count": 1,
   "metadata": {
    "collapsed": true
   },
   "outputs": [],
   "source": [
    "%matplotlib inline\n",
    "from __future__ import division, print_function\n",
    "import numpy as np\n",
    "from astropy.table import Table\n",
    "import matplotlib.pyplot as plt\n",
    "import sys, os\n",
    "sys.path.append('/Users/roz18/git/Python/user_modules')\n",
    "from readEazyBinary import readpz\n",
    "import scipy.interpolate\n",
    "import scipy.integrate\n",
    "import scipy"
   ]
  },
  {
   "cell_type": "code",
   "execution_count": 2,
   "metadata": {
    "scrolled": false
   },
   "outputs": [
    {
     "name": "stdout",
     "output_type": "stream",
     "text": [
      "111171\n",
      "44410\n",
      "43486\n",
      "43486\n"
     ]
    }
   ],
   "source": [
    "path = '/Users/roz18/Dropbox/Work/mini-projects/Buzzard-EAZY/inputs_Buzzard_training/OUTPUT'\n",
    "\n",
    "cat = Table.read('/Users/roz18/Documents/Data/mini-projects/buzzard_photo-z/Final_Buzzard_training_file.fits')\n",
    "print(len(cat))\n",
    "\n",
    "# Gold sample cut\n",
    "mask = cat['LSSTi']<25.3\n",
    "print(np.sum(mask))\n",
    "\n",
    "# Remove objects with invalide flux measurements\n",
    "mask = mask & (cat['LSSTu']!=99.) & (cat['LSSTg']!=99.) & (cat['LSSTr']!=99.) & \\\n",
    "       (cat['LSSTi']!=99.) & (cat['LSSTz']!=99.) & (cat['LSSTy']!=99.)\n",
    "print(np.sum(mask))\n",
    "\n",
    "# redshift range\n",
    "zmin = 0.\n",
    "zmax = 2.0\n",
    "mask = mask & (cat['redshift']>zmin) & (cat['redshift']<zmax)\n",
    "print(np.sum(mask))\n",
    "cat = cat[mask]\n",
    "zspec = cat['redshift']"
   ]
  },
  {
   "cell_type": "code",
   "execution_count": 3,
   "metadata": {
    "collapsed": true
   },
   "outputs": [],
   "source": [
    "# Load p(z) data\n",
    "pz_dict = readpz(MAIN_OUTPUT_FILE='photz', OUTPUT_DIRECTORY=path, APPLY_PRIOR=False)\n",
    "# Redshift grid\n",
    "zgrid = pz_dict['zgrid']\n",
    "# p(z)\n",
    "pz = pz_dict['pz'][mask]\n",
    "# prior = pz_dict['prior'][mask]\n",
    "# chi squared\n",
    "chi2 = pz_dict['chi2'][mask]"
   ]
  },
  {
   "cell_type": "code",
   "execution_count": 4,
   "metadata": {},
   "outputs": [
    {
     "data": {
      "text/plain": [
       "{'chi2': array([[  2.08913096e+01,   2.15143985e+01,   3.87740807e+01, ...,\n",
       "           6.57633592e+03,   6.25808268e+03,   5.97557358e+03],\n",
       "        [  3.69578669e+01,   4.03184124e+01,   3.14300230e+01, ...,\n",
       "           1.89012388e+03,   1.74546979e+03,   1.62759783e+03],\n",
       "        [  2.66153333e+02,   2.41853984e+02,   2.20307112e+02, ...,\n",
       "           4.88446925e+03,   4.56660893e+03,   4.29711428e+03],\n",
       "        ..., \n",
       "        [  4.62318850e+00,   4.96292984e+00,   5.58831447e+00, ...,\n",
       "           3.15177836e+00,   3.24934391e+00,   3.37153269e+00],\n",
       "        [  1.14301998e+01,   1.14369697e+01,   1.15278571e+01, ...,\n",
       "           6.49970954e+00,   6.79035055e+00,   7.11511942e+00],\n",
       "        [  1.71820357e+01,   1.67575986e+01,   1.63714776e+01, ...,\n",
       "           2.67437146e+01,   2.77227251e+01,   2.86765364e+01]]),\n",
       " 'pz': array([[  2.00084303e+00,   1.46524746e+00,   2.61829518e-04, ...,\n",
       "           0.00000000e+00,   0.00000000e+00,   0.00000000e+00],\n",
       "        [  2.61905613e-03,   4.87990792e-04,   4.15432872e-02, ...,\n",
       "           0.00000000e+00,   0.00000000e+00,   0.00000000e+00],\n",
       "        [  1.24477008e-55,   2.35301978e-50,   1.12323225e-45, ...,\n",
       "           0.00000000e+00,   0.00000000e+00,   0.00000000e+00],\n",
       "        ..., \n",
       "        [  4.67006783e-01,   3.94048152e-01,   2.88236349e-01, ...,\n",
       "           9.74621172e-01,   9.28217501e-01,   8.73206171e-01],\n",
       "        [  4.74042678e-02,   4.72440799e-02,   4.51451845e-02, ...,\n",
       "           5.57775980e-01,   4.82334043e-01,   4.10039080e-01],\n",
       "        [  5.35279543e-02,   6.61829285e-02,   8.02769915e-02, ...,\n",
       "           4.49043535e-04,   2.75232062e-04,   1.70836840e-04]]),\n",
       " 'zgrid': array([ 0.01      ,  0.0201    ,  0.030301  ,  0.04060401,  0.05101005,\n",
       "         0.06152015,  0.07213535,  0.08285671,  0.09368527,  0.10462213,\n",
       "         0.11566835,  0.12682503,  0.13809328,  0.14947421,  0.16096896,\n",
       "         0.17257864,  0.18430443,  0.19614748,  0.20810895,  0.22019004,\n",
       "         0.23239194,  0.24471586,  0.25716302,  0.26973465,  0.282432  ,\n",
       "         0.29525631,  0.30820888,  0.32129097,  0.33450388,  0.34784892,\n",
       "         0.3613274 ,  0.37494068,  0.38869009,  0.40257699,  0.41660276,\n",
       "         0.43076878,  0.44507647,  0.45952724,  0.47412251,  0.48886373,\n",
       "         0.50375237,  0.51878989,  0.53397779,  0.54931757,  0.56481075,\n",
       "         0.58045885,  0.59626344,  0.61222608,  0.62834834,  0.64463182,\n",
       "         0.66107814,  0.67768892,  0.69446581,  0.71141047,  0.72852457,\n",
       "         0.74580982,  0.76326792,  0.7809006 ,  0.7987096 ,  0.8166967 ,\n",
       "         0.83486367,  0.8532123 ,  0.87174443,  0.89046187,  0.90936649,\n",
       "         0.92846015,  0.94774475,  0.9672222 ,  0.98689442,  1.00676337,\n",
       "         1.026831  ,  1.04709931,  1.06757031,  1.08824601,  1.10912847,\n",
       "         1.13021975,  1.15152195,  1.17303717,  1.19476754,  1.21671522,\n",
       "         1.23888237,  1.26127119,  1.2838839 ,  1.30672274,  1.32978997,\n",
       "         1.35308787,  1.37661875,  1.40038494,  1.42438879,  1.44863267,\n",
       "         1.473119  ,  1.49785019,  1.52282869,  1.54805698,  1.57353755,\n",
       "         1.59927293,  1.62526565,  1.65151831,  1.67803349,  1.70481383,\n",
       "         1.73186197,  1.75918059,  1.78677239,  1.81464012,  1.84278652,\n",
       "         1.87121438,  1.89992653,  1.92892579,  1.95821505,  1.9877972 ,\n",
       "         2.01767517,  2.04785192,  2.07833044])}"
      ]
     },
     "execution_count": 4,
     "metadata": {},
     "output_type": "execute_result"
    }
   ],
   "source": [
    "pz_dict"
   ]
  },
  {
   "cell_type": "code",
   "execution_count": 5,
   "metadata": {
    "collapsed": true
   },
   "outputs": [],
   "source": [
    "# Downsampling\n",
    "size = 100\n",
    "np.random.seed(1842)\n",
    "idx = np.random.choice(len(pz), size=size, replace=False)\n",
    "pz = pz[idx]\n",
    "zspec = zspec[idx]"
   ]
  },
  {
   "cell_type": "code",
   "execution_count": 6,
   "metadata": {
    "collapsed": true
   },
   "outputs": [],
   "source": [
    "np.savetxt('/Users/roz18/Documents/git/PZDC1paper/mystuff/pz.txt', pz)\n",
    "np.savetxt('/Users/roz18/Documents/git/PZDC1paper/mystuff/zgrid.txt', zgrid)\n",
    "np.savetxt('/Users/roz18/Documents/git/PZDC1paper/mystuff/zspec.txt', zspec)"
   ]
  },
  {
   "cell_type": "markdown",
   "metadata": {
    "collapsed": true
   },
   "source": [
    "__Interpolate p(z):__"
   ]
  },
  {
   "cell_type": "code",
   "execution_count": 7,
   "metadata": {},
   "outputs": [
    {
     "name": "stdout",
     "output_type": "stream",
     "text": [
      "\r",
      "0\r",
      "1\r",
      "2\r",
      "3\r",
      "4\r",
      "5\r",
      "6\r",
      "7\r",
      "8\r",
      "9\r",
      "10\r",
      "11\r",
      "12\r",
      "13\r",
      "14\r",
      "15\r",
      "16\r",
      "17\r",
      "18\r",
      "19\r",
      "20\r",
      "21\r",
      "22\r",
      "23\r",
      "24\r",
      "25\r",
      "26\r",
      "27\r",
      "28\r",
      "29\r",
      "30\r",
      "31\r",
      "32\r",
      "33\r",
      "34\r",
      "35\r",
      "36\r",
      "37\r",
      "38\r",
      "39\r",
      "40\r",
      "41\r",
      "42\r",
      "43\r",
      "44\r",
      "45\r",
      "46\r",
      "47\r",
      "48\r",
      "49\r",
      "50\r",
      "51\r",
      "52\r",
      "53\r",
      "54\r",
      "55\r",
      "56\r",
      "57\r",
      "58\r",
      "59\r",
      "60\r",
      "61\r",
      "62\r",
      "63\r",
      "64\r",
      "65\r",
      "66\r",
      "67\r",
      "68\r",
      "69\r",
      "70\r",
      "71\r",
      "72\r",
      "73\r",
      "74\r",
      "75\r",
      "76\r",
      "77\r",
      "78\r",
      "79\r",
      "80\r",
      "81\r",
      "82\r",
      "83\r",
      "84\r",
      "85\r",
      "86\r",
      "87\r",
      "88\r",
      "89\r",
      "90\r",
      "91\r",
      "92\r",
      "93\r",
      "94\r",
      "95\r",
      "96\r",
      "97\r",
      "98\r",
      "99"
     ]
    }
   ],
   "source": [
    "# Insert points between the grid points\n",
    "# set the number of iterations\n",
    "n_iterations = 3\n",
    "zgrid_fine = zgrid.copy()\n",
    "for index in range(n_iterations):\n",
    "    zgrid1 = np.zeros(len(zgrid_fine)*2-1)\n",
    "    zgrid1[::2] = zgrid_fine\n",
    "    zgrid1[1::2] = (zgrid_fine[:-1]+zgrid_fine[1:])/2\n",
    "    zgrid_fine = zgrid1.copy()\n",
    "    \n",
    "pz_fine = np.zeros((len(pz), len(zgrid_fine)))\n",
    "for index in range(len(pz)):\n",
    "    pz_interp = scipy.interpolate.interp1d(zgrid, pz[index], kind='linear')\n",
    "    pz_fine[index] = pz_interp(zgrid_fine)\n",
    "    print('\\r{}'.format(index), end='')"
   ]
  },
  {
   "cell_type": "code",
   "execution_count": 8,
   "metadata": {
    "collapsed": true
   },
   "outputs": [],
   "source": [
    "np.savetxt('/Users/roz18/Documents/git/PZDC1paper/mystuff/zgrid_fine.txt', zgrid_fine)\n",
    "np.savetxt('/Users/roz18/Documents/git/PZDC1paper/mystuff/pz_fine.txt', pz_fine)"
   ]
  },
  {
   "cell_type": "code",
   "execution_count": null,
   "metadata": {
    "collapsed": true
   },
   "outputs": [],
   "source": []
  }
 ],
 "metadata": {
  "anaconda-cloud": {},
  "kernelspec": {
   "display_name": "Python [Root]",
   "language": "python",
   "name": "Python [Root]"
  },
  "language_info": {
   "codemirror_mode": {
    "name": "ipython",
    "version": 2
   },
   "file_extension": ".py",
   "mimetype": "text/x-python",
   "name": "python",
   "nbconvert_exporter": "python",
   "pygments_lexer": "ipython2",
   "version": "2.7.11"
  }
 },
 "nbformat": 4,
 "nbformat_minor": 1
}
