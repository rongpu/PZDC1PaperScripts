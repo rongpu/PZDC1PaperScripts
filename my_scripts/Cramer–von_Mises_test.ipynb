{
 "cells": [
  {
   "cell_type": "code",
   "execution_count": 1,
   "metadata": {
    "collapsed": true
   },
   "outputs": [],
   "source": [
    "%matplotlib inline\n",
    "\n",
    "from __future__ import division, print_function\n",
    "import matplotlib.pyplot as plt\n",
    "import numpy as np\n",
    "from astropy.table import Table\n",
    "import kcorrect\n",
    "import os"
   ]
  },
  {
   "cell_type": "code",
   "execution_count": 2,
   "metadata": {
    "collapsed": false,
    "scrolled": true
   },
   "outputs": [
    {
     "name": "stdout",
     "output_type": "stream",
     "text": [
      "[1 5 7 2 3 6]\n",
      "[0 3 4 1 5 2]\n",
      "[0 3 5 1 2 4]\n"
     ]
    }
   ],
   "source": [
    "a = np.array([1,5,7])\n",
    "b = np.array([2,3,6])\n",
    "c = np.concatenate([a,b])\n",
    "\n",
    "order = np.argsort(c)\n",
    "print(c)\n",
    "print(order)\n",
    "print(np.argsort(order))"
   ]
  },
  {
   "cell_type": "code",
   "execution_count": 107,
   "metadata": {
    "collapsed": true
   },
   "outputs": [],
   "source": [
    "def CvM_cdf(n1, n2, y1, y2):\n",
    "    '''\n",
    "    Calculate Anderson-Darling statistic from two CDFs;\n",
    "    y1: CDF of the mock distribution;\n",
    "    y2: CDF of the observed distribution.\n",
    "    '''\n",
    "    n = n1+n2\n",
    "    h = (n1*y1+n2*y2)/n\n",
    "    cvm_stat = n1*n2/n * np.trapz((y2-y1)**2, h)\n",
    "    cvm_stat = np.trapz((y2-y1)**2, h)\n",
    "    \n",
    "#     plt.figure(figsize=(6, 6))\n",
    "#     plt.plot(h, y1)\n",
    "#     plt.plot(h, y2)\n",
    "#     plt.show()\n",
    "\n",
    "    return cvm_stat\n",
    "\n",
    "def CvM_cdf_omegasq(n1, n2, y1, y2):\n",
    "    '''\n",
    "    Calculate Anderson-Darling statistic from two CDFs;\n",
    "    y1: CDF of the mock distribution;\n",
    "    y2: CDF of the observed distribution.\n",
    "    '''\n",
    "    n = n1+n2\n",
    "    h = (n1*y1+n2*y2)/n\n",
    "    cvm_stat = np.trapz((y2-y1)**2, h)\n",
    "\n",
    "    return cvm_stat\n",
    "\n",
    "\n",
    "def CvM(x, y, noise=1e-6):\n",
    "    '''\n",
    "    Calculate Anderson-Darling statistic from two samples directly;\n",
    "    x, y: observed values in the two samples;\n",
    "    noise: noise to add to the values to break ties. \n",
    "    '''\n",
    "    n = len(x)\n",
    "    m = len(y)\n",
    "    \n",
    "    x = x + noise*np.random.randn(n)\n",
    "    y = y + noise*np.random.randn(m)\n",
    "    \n",
    "    xy = np.concatenate([x, y])\n",
    "    order = np.argsort(xy)\n",
    "    rank = np.argsort(order)+1\n",
    "    r = rank[:len(x)]\n",
    "    s = rank[len(x):]\n",
    "    u = n*np.sum((r-(np.arange(n)+1))**2) + m*np.sum((s-(np.arange(m)+1))**2)\n",
    "    \n",
    "    t = u/(n*m*(n+m)) - (4*n*m-1)/(6*(n+m))\n",
    "#     t = (4*n*m-1)/(6*(n+m))\n",
    "#     t = u/(n*m*(n+m))\n",
    "    return t"
   ]
  },
  {
   "cell_type": "code",
   "execution_count": 113,
   "metadata": {
    "collapsed": true
   },
   "outputs": [],
   "source": [
    "a = np.random.randn(10)\n",
    "b = np.random.randn(100000)"
   ]
  },
  {
   "cell_type": "code",
   "execution_count": 118,
   "metadata": {
    "collapsed": false
   },
   "outputs": [
    {
     "name": "stdout",
     "output_type": "stream",
     "text": [
      "0.012455220166\n",
      "0.012455220166\n",
      "0.012455220166\n",
      "0.12455220166\n"
     ]
    }
   ],
   "source": [
    "bins = np.linspace(-5, 5, 1000)\n",
    "\n",
    "hist, bin_edges = np.histogram((a), bins=bins)\n",
    "hist = hist/np.sum(hist)\n",
    "binctr = (bin_edges[1:] + bin_edges[:-1])/2.\n",
    "cdf1 = np.zeros(len(hist))\n",
    "cdf1[0] = hist[0]\n",
    "for cdf_index in range(1, len(hist)):\n",
    "    cdf1[cdf_index] = cdf1[cdf_index-1]+hist[cdf_index]\n",
    "    \n",
    "hist, bin_edges = np.histogram((b), bins=bins)\n",
    "hist = hist/np.sum(hist)\n",
    "binctr = (bin_edges[1:] + bin_edges[:-1])/2.\n",
    "cdf2 = np.zeros(len(hist))\n",
    "cdf2[0] = hist[0]\n",
    "for cdf_index in range(1, len(hist)):\n",
    "    cdf2[cdf_index] = cdf2[cdf_index-1]+hist[cdf_index]\n",
    "print(CvM_cdf(len(a), len(b), cdf1, cdf2))\n",
    "\n",
    "print(CvM_cdf_omegasq(len(a), len(b), cdf1, cdf2))\n",
    "print(CvM_cdf(len(a), len(b), cdf1, cdf2))\n",
    "\n",
    "print(10*CvM_cdf_omegasq(len(a), len(b), cdf1, cdf2))"
   ]
  },
  {
   "cell_type": "code",
   "execution_count": 119,
   "metadata": {
    "collapsed": false
   },
   "outputs": [
    {
     "data": {
      "text/plain": [
       "GofResult(statistic=0.12432272434651825, pvalue=0.48527713387556448)"
      ]
     },
     "execution_count": 119,
     "metadata": {},
     "output_type": "execute_result"
    }
   ],
   "source": [
    "cvm_test(a, norm(0, 1))"
   ]
  },
  {
   "cell_type": "code",
   "execution_count": 91,
   "metadata": {
    "collapsed": false,
    "scrolled": false
   },
   "outputs": [
    {
     "name": "stderr",
     "output_type": "stream",
     "text": [
      "/Users/roz18/anaconda/lib/python2.7/site-packages/ipykernel/__main__.py:36: RuntimeWarning: overflow encountered in long_scalars\n"
     ]
    },
    {
     "name": "stdout",
     "output_type": "stream",
     "text": [
      "-18292945.7653\n"
     ]
    },
    {
     "data": {
      "image/png": "[encoded data removed]",
      "text/plain": [
       "<matplotlib.figure.Figure at 0x103d69810>"
      ]
     },
     "metadata": {},
     "output_type": "display_data"
    },
    {
     "name": "stdout",
     "output_type": "stream",
     "text": [
      "0.00710119620572\n"
     ]
    }
   ],
   "source": [
    "print(CvM(a, b))\n",
    "\n",
    "bins = np.linspace(-5, 5, 1000)\n",
    "\n",
    "hist, bin_edges = np.histogram((a), bins=bins)\n",
    "hist = hist/np.sum(hist)\n",
    "binctr = (bin_edges[1:] + bin_edges[:-1])/2.\n",
    "cdf1 = np.zeros(len(hist))\n",
    "cdf1[0] = hist[0]\n",
    "for cdf_index in range(1, len(hist)):\n",
    "    cdf1[cdf_index] = cdf1[cdf_index-1]+hist[cdf_index]\n",
    "    \n",
    "hist, bin_edges = np.histogram((b), bins=bins)\n",
    "hist = hist/np.sum(hist)\n",
    "binctr = (bin_edges[1:] + bin_edges[:-1])/2.\n",
    "cdf2 = np.zeros(len(hist))\n",
    "cdf2[0] = hist[0]\n",
    "for cdf_index in range(1, len(hist)):\n",
    "    cdf2[cdf_index] = cdf2[cdf_index-1]+hist[cdf_index]\n",
    "print(CvM_cdf(len(a), len(b), cdf1, cdf2))"
   ]
  },
  {
   "cell_type": "code",
   "execution_count": 92,
   "metadata": {
    "collapsed": true
   },
   "outputs": [],
   "source": [
    "from scipy.stats import norm, uniform\n",
    "from skgof import ks_test, cvm_test, ad_test"
   ]
  },
  {
   "cell_type": "code",
   "execution_count": 103,
   "metadata": {
    "collapsed": false
   },
   "outputs": [
    {
     "data": {
      "text/plain": [
       "GofResult(statistic=0.056283607384183393, pvalue=0.84855465460620627)"
      ]
     },
     "execution_count": 103,
     "metadata": {},
     "output_type": "execute_result"
    }
   ],
   "source": [
    "cvm_test(a, norm(0, 1))"
   ]
  },
  {
   "cell_type": "code",
   "execution_count": 81,
   "metadata": {
    "collapsed": false,
    "scrolled": true
   },
   "outputs": [
    {
     "data": {
      "image/png": "[encoded data removed]",
      "text/plain": [
       "<matplotlib.figure.Figure at 0x109fa4ad0>"
      ]
     },
     "metadata": {},
     "output_type": "display_data"
    }
   ],
   "source": [
    "plt.plot(binctr, cdf1, lw=1)\n",
    "plt.plot(binctr, cdf2, lw=1)\n",
    "plt.xlim(-5,5)\n",
    "plt.show()"
   ]
  },
  {
   "cell_type": "markdown",
   "metadata": {},
   "source": [
    "-------------"
   ]
  }
 ],
 "metadata": {
  "anaconda-cloud": {},
  "kernelspec": {
   "display_name": "Python [Root]",
   "language": "python",
   "name": "Python [Root]"
  },
  "language_info": {
   "codemirror_mode": {
    "name": "ipython",
    "version": 2
   },
   "file_extension": ".py",
   "mimetype": "text/x-python",
   "name": "python",
   "nbconvert_exporter": "python",
   "pygments_lexer": "ipython2",
   "version": "2.7.11"
  }
 },
 "nbformat": 4,
 "nbformat_minor": 0
}
